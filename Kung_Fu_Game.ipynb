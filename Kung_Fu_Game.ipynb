{
 "cells": [
  {
   "cell_type": "markdown",
   "metadata": {
    "colab_type": "text",
    "id": "s-Q30KV2SpV7"
   },
   "source": [
    "###  Kung-Fu  actor-critic\n",
    "\n",
    "[Kung-Fu Master](https://gym.openai.com/envs/KungFuMaster-v0/) and train it with Advantage Actor-Critic.\n",
    "\n",
    "![https://upload.wikimedia.org/wikipedia/en/6/66/Kung_fu_master_mame.png](https://upload.wikimedia.org/wikipedia/en/6/66/Kung_fu_master_mame.png)"
   ]
  },
  {
   "cell_type": "code",
   "execution_count": 0,
   "metadata": {
    "colab": {},
    "colab_type": "code",
    "id": "cJDkMNqVSpWB"
   },
   "outputs": [],
   "source": [
    "import numpy as np\n",
    "\n",
    "import matplotlib.pyplot as plt\n",
    "%matplotlib inline\n",
    "\n",
    "from IPython.display import display"
   ]
  },
  {
   "cell_type": "markdown",
   "metadata": {
    "colab_type": "text",
    "id": "rnlzkSA4SpWF"
   },
   "source": [
    " \n",
    "* Image resized to 42x42 and converted to grayscale to run faster\n",
    "* Agent sees last 4 frames of game to account for object velocity"
   ]
  },
  {
   "cell_type": "code",
   "execution_count": null,
   "metadata": {},
   "outputs": [],
   "source": [
    "import numpy as np\n",
    "import gym\n",
    "from scipy.misc import imresize\n",
    "import logger\n",
    "import seeding\n",
    "\n",
    "\n",
    "class Space(object):\n",
    "    \n",
    "    def __init__(self, shape=None, dtype=None):\n",
    "        import numpy as np  \n",
    "        self.shape = None if shape is None else tuple(shape)\n",
    "        self.dtype = None if dtype is None else np.dtype(dtype)\n",
    "        self.np_random = None\n",
    "        self.seed()\n",
    "\n",
    "    def sample(self):\n",
    "       \n",
    "        raise NotImplementedError\n",
    "\n",
    "    def seed(self, seed=None):\n",
    "        self.np_random, seed = seeding.np_random(seed)\n",
    "        return [seed]\n",
    "\n",
    "    def contains(self, x):\n",
    "\n",
    "        raise NotImplementedError\n",
    "\n",
    "    def __contains__(self, x):\n",
    "        return self.contains(x)\n",
    "\n",
    "    def to_jsonable(self, sample_n):\n",
    "       \n",
    "        return sample_n\n",
    "\n",
    "    def from_jsonable(self, sample_n):\n",
    "        \n",
    "        return sample_n\n",
    "class Box(Space):\n",
    "   \n",
    "    def __init__(self, low, high, shape=None, dtype=np.float32):\n",
    "        assert dtype is not None, 'dtype must be explicitly provided. '\n",
    "        self.dtype = np.dtype(dtype)\n",
    "\n",
    "        if shape is not None:\n",
    "            shape = tuple(shape)\n",
    "            assert np.isscalar(low) or low.shape == shape, \"low.shape doesn't match provided shape\"\n",
    "            assert np.isscalar(high) or high.shape == shape, \"high.shape doesn't match provided shape\"\n",
    "        elif not np.isscalar(low):\n",
    "            shape = low.shape\n",
    "            assert np.isscalar(high) or high.shape == shape, \"high.shape doesn't match low.shape\"\n",
    "        elif not np.isscalar(high):\n",
    "            shape = high.shape\n",
    "            assert np.isscalar(low) or low.shape == shape, \"low.shape doesn't match high.shape\"\n",
    "        else:\n",
    "            raise ValueError(\"shape must be provided or inferred from the shapes of low or high\")\n",
    "\n",
    "        if np.isscalar(low):\n",
    "            low = np.full(shape, low, dtype=dtype)\n",
    "\n",
    "        if np.isscalar(high):\n",
    "            high = np.full(shape, high, dtype=dtype)\n",
    "\n",
    "        self.shape = shape\n",
    "        self.low = low\n",
    "        self.high = high\n",
    "\n",
    "        def _get_precision(dtype):\n",
    "            if np.issubdtype(dtype, np.floating):\n",
    "                return np.finfo(dtype).precision\n",
    "            else:\n",
    "                return np.inf\n",
    "        low_precision = _get_precision(self.low.dtype)\n",
    "        high_precision = _get_precision(self.high.dtype)\n",
    "        dtype_precision = _get_precision(self.dtype)\n",
    "        if min(low_precision, high_precision) > dtype_precision:\n",
    "            logger.warn(\"Box bound precision lowered by casting to {}\".format(self.dtype))\n",
    "        self.low = self.low.astype(self.dtype)\n",
    "        self.high = self.high.astype(self.dtype)\n",
    "\n",
    "        # Boolean arrays which indicate the interval type for each coordinate\n",
    "        self.bounded_below = -np.inf < self.low\n",
    "        self.bounded_above = np.inf > self.high\n",
    "\n",
    "        super(Box, self).__init__(self.shape, self.dtype)\n",
    "\n",
    "    def is_bounded(self, manner=\"both\"):\n",
    "        below = np.all(self.bounded_below)\n",
    "        above = np.all(self.bounded_above)\n",
    "        if manner == \"both\":\n",
    "            return below and above\n",
    "        elif manner == \"below\":\n",
    "            return below\n",
    "        elif manner == \"above\":\n",
    "            return above\n",
    "        else:\n",
    "            raise ValueError(\"manner is not in {'below', 'above', 'both'}\")\n",
    "\n",
    "    def sample(self):\n",
    "     \n",
    "        high = self.high if self.dtype.kind == 'f' \\\n",
    "                else self.high.astype('int64') + 1\n",
    "        sample = np.empty(self.shape)\n",
    "\n",
    "        # Masking arrays which classify the coordinates according to interval\n",
    "        # type\n",
    "        unbounded   = ~self.bounded_below & ~self.bounded_above\n",
    "        upp_bounded = ~self.bounded_below &  self.bounded_above\n",
    "        low_bounded =  self.bounded_below & ~self.bounded_above\n",
    "        bounded     =  self.bounded_below &  self.bounded_above\n",
    "\n",
    "\n",
    "        # Vectorized sampling by interval type\n",
    "        sample[unbounded] = self.np_random.normal(\n",
    "                size=unbounded[unbounded].shape)\n",
    "\n",
    "        sample[low_bounded] = self.np_random.exponential(\n",
    "            size=low_bounded[low_bounded].shape) + self.low[low_bounded]\n",
    "\n",
    "        sample[upp_bounded] = -self.np_random.exponential(\n",
    "            size=upp_bounded[upp_bounded].shape) + self.high[upp_bounded]\n",
    "\n",
    "        sample[bounded] = self.np_random.uniform(low=self.low[bounded],\n",
    "                                            high=high[bounded],\n",
    "                                            size=bounded[bounded].shape)\n",
    "        if self.dtype.kind == 'i':\n",
    "            sample = np.floor(sample)\n",
    "\n",
    "        return sample.astype(self.dtype)\n",
    "\n",
    "    def contains(self, x):\n",
    "        if isinstance(x, list):\n",
    "            x = np.array(x)  # Promote list to array for contains check\n",
    "        return x.shape == self.shape and np.all(x >= self.low) and np.all(x <= self.high)\n",
    "\n",
    "    def to_jsonable(self, sample_n):\n",
    "        return np.array(sample_n).tolist()\n",
    "\n",
    "    def from_jsonable(self, sample_n):\n",
    "        return [np.asarray(sample) for sample in sample_n]\n",
    "\n",
    "    def __repr__(self):\n",
    "        return \"Box\" + str(self.shape)\n",
    "\n",
    "    def __eq__(self, other):\n",
    "        return isinstance(other, Box) and (self.shape == other.shape) and np.allclose(self.low, other.low) and np.allclose(self.high, other.high)\n",
    "class Wrapper(Env):\n",
    "    \"\"\"Wraps the environment to allow a modular transformation.\n",
    "    \n",
    " \"\"\"\n",
    "    def __init__(self, env):\n",
    "        self.env = env\n",
    "        self.action_space = self.env.action_space\n",
    "        self.observation_space = self.env.observation_space\n",
    "        self.reward_range = self.env.reward_range\n",
    "        self.metadata = self.env.metadata\n",
    "\n",
    "    def __getattr__(self, name):\n",
    "        if name.startswith('_'):\n",
    "            raise AttributeError(\"attempted to get missing private attribute '{}'\".format(name))\n",
    "        return getattr(self.env, name)\n",
    "\n",
    "    @property\n",
    "    def spec(self):\n",
    "        return self.env.spec\n",
    "\n",
    "    @classmethod\n",
    "    def class_name(cls):\n",
    "        return cls.__name__\n",
    "\n",
    "    def step(self, action):\n",
    "        return self.env.step(action)\n",
    "\n",
    "    def reset(self, **kwargs):\n",
    "        return self.env.reset(**kwargs)\n",
    "\n",
    "    def render(self, mode='human', **kwargs):\n",
    "        return self.env.render(mode, **kwargs)\n",
    "\n",
    "    def close(self):\n",
    "        return self.env.close()\n",
    "\n",
    "    def seed(self, seed=None):\n",
    "        return self.env.seed(seed)\n",
    "\n",
    "    def compute_reward(self, achieved_goal, desired_goal, info):\n",
    "        return self.env.compute_reward(achieved_goal, desired_goal, info)\n",
    "\n",
    "    def __str__(self):\n",
    "        return '<{}{}>'.format(type(self).__name__, self.env)\n",
    "\n",
    "    def __repr__(self):\n",
    "        return str(self)\n",
    "\n",
    "    @property\n",
    "    def unwrapped(self):\n",
    "        return self.env.unwrapped\n",
    "class Preprocessingbreakout(Wrapper):\n",
    "    def __init__(self, env, height=42, width=42, color=False, crop=lambda img: img, \n",
    "                 n_frames=4, dim_order='theano', reward_scale=1,):\n",
    "        \"\"\"A gym wrapper that reshapes, crops and scales image into the desired shapes\"\"\"\n",
    "        super(Preprocessingbreakout, self).__init__(env)\n",
    "        assert dim_order in ('theano', 'tensorflow')\n",
    "        self.img_size = (height, width)\n",
    "        self.crop=crop\n",
    "        self.color=color\n",
    "        self.dim_order = dim_order\n",
    "        self.reward_scale = reward_scale\n",
    "        \n",
    "        n_channels = (3 * n_frames) if color else n_frames\n",
    "        obs_shape = [n_channels,height,width] if dim_order == 'theano' else [height,width,n_channels]\n",
    "        self.observation_space = Box(0.0, 1.0, obs_shape)\n",
    "        self.framebuffer = np.zeros(obs_shape, 'float32')\n",
    "        \n",
    "    def reset(self):\n",
    "        \"\"\"resets breakout, returns initial frames\"\"\"\n",
    "        self.framebuffer = np.zeros_like(self.framebuffer)\n",
    "        self.update_buffer(self.env.reset())\n",
    "        return self.framebuffer\n",
    "    \n",
    "    def step(self,action):\n",
    "        \"\"\"plays breakout for 1 step, returns frame buffer\"\"\"\n",
    "        new_img, reward, done, info = self.env.step(action)\n",
    "        self.update_buffer(new_img)\n",
    "        return self.framebuffer, reward * self.reward_scale, done, info\n",
    "    \n",
    "    # image processing \n",
    "    \n",
    "    def update_buffer(self,img):\n",
    "        img = self.preproc_image(img)\n",
    "        offset = 3 if self.color else 1\n",
    "        if self.dim_order == 'theano':\n",
    "            axis = 0\n",
    "            cropped_framebuffer = self.framebuffer[:-offset]\n",
    "        else:\n",
    "            axis = -1\n",
    "            cropped_framebuffer = self.framebuffer[:,:,:-offset]\n",
    "        self.framebuffer = np.concatenate([img, cropped_framebuffer], axis = axis)\n",
    "\n",
    "    def preproc_image(self, img):\n",
    "        img = self.crop(img)\n",
    "        img = imresize(img, self.img_size)\n",
    "        if not self.color:\n",
    "            img = img.mean(-1, keepdims=True)\n",
    "        if self.dim_order == 'theano':\n",
    "            img = img.transpose([2,0,1]) # [h, w, c] to [c, h, w]\n",
    "        img = img.astype('float32') / 255.\n",
    "        return img"
   ]
  },
  {
   "cell_type": "code",
   "execution_count": 0,
   "metadata": {
    "colab": {
     "base_uri": "https://localhost:8080/",
     "height": 122
    },
    "colab_type": "code",
    "id": "5TjUjCANSpWH",
    "outputId": "f20c6293-4c1e-4b61-b992-660aa56b4804"
   },
   "outputs": [
    {
     "name": "stdout",
     "output_type": "stream",
     "text": [
      "Observation shape: (42, 42, 4)\n",
      "Num actions: 14\n",
      "Action names: ['NOOP', 'UP', 'RIGHT', 'LEFT', 'DOWN', 'DOWNRIGHT', 'DOWNLEFT', 'RIGHTFIRE', 'LEFTFIRE', 'DOWNFIRE', 'UPRIGHTFIRE', 'UPLEFTFIRE', 'DOWNRIGHTFIRE', 'DOWNLEFTFIRE']\n"
     ]
    },
    {
     "name": "stderr",
     "output_type": "stream",
     "text": [
      "/usr/local/lib/python3.6/dist-packages/gym/logger.py:30: UserWarning: \u001b[33mWARN: Box bound precision lowered by casting to float32\u001b[0m\n",
      "  warnings.warn(colorize('%s: %s'%('WARN', msg % args), 'yellow'))\n"
     ]
    }
   ],
   "source": [
    "import gym\n",
    "\n",
    "def make_env():\n",
    "    env = gym.make(\"KungFuMasterDeterministic-v0\")\n",
    "    env = Preprocessingbreakout(\n",
    "        env, height=42, width=42,\n",
    "        crop=lambda img: img[60:-30, 5:],\n",
    "        dim_order='tensorflow',\n",
    "        color=False, n_frames=4)\n",
    "    return env\n",
    "\n",
    "env = make_env()\n",
    "\n",
    "obs_shape = env.observation_space.shape\n",
    "n_actions = env.action_space.n\n",
    "\n",
    "print(\"Observation shape:\", obs_shape)\n",
    "print(\"Num actions:\", n_actions)\n",
    "print(\"Action names:\", env.env.env.get_action_meanings())"
   ]
  },
  {
   "cell_type": "code",
   "execution_count": 0,
   "metadata": {
    "colab": {
     "base_uri": "https://localhost:8080/",
     "height": 412
    },
    "colab_type": "code",
    "id": "pJdtp_LCSpWM",
    "outputId": "5a778cbf-ba3f-457b-8895-626491fcb125"
   },
   "outputs": [
    {
     "data": {
      "image/png": "[encoded data removed]",
      "text/plain": [
       "<Figure size 432x288 with 1 Axes>"
      ]
     },
     "metadata": {
      "needs_background": "light",
      "tags": []
     },
     "output_type": "display_data"
    },
    {
     "data": {
      "image/png": "[encoded data removed]",
      "text/plain": [
       "<Figure size 432x288 with 1 Axes>"
      ]
     },
     "metadata": {
      "needs_background": "light",
      "tags": []
     },
     "output_type": "display_data"
    }
   ],
   "source": [
    "s = env.reset()\n",
    "for _ in range(100):\n",
    "    s, _, _, _ = env.step(env.action_space.sample())\n",
    "\n",
    "plt.title('Game image')\n",
    "plt.imshow(env.render('rgb_array'))\n",
    "plt.show()\n",
    "\n",
    "plt.title('Agent observation (4-frame buffer)')\n",
    "plt.imshow(s.transpose([0, 2, 1]).reshape([42,-1]))\n",
    "plt.show()"
   ]
  },
  {
   "cell_type": "markdown",
   "metadata": {
    "colab_type": "text",
    "id": "-XycQSjXSpWQ"
   },
   "source": [
    "### Build an agent\n",
    "\n",
    " \n",
    "\n",
    "\n",
    " "
   ]
  },
  {
   "cell_type": "code",
   "execution_count": 0,
   "metadata": {
    "colab": {},
    "colab_type": "code",
    "id": "GAR4jz-FSpWQ"
   },
   "outputs": [],
   "source": [
    "import tensorflow as tf\n",
    "tf.reset_default_graph()\n",
    "sess = tf.InteractiveSession()"
   ]
  },
  {
   "cell_type": "code",
   "execution_count": 0,
   "metadata": {
    "colab": {
     "base_uri": "https://localhost:8080/",
     "height": 34
    },
    "colab_type": "code",
    "id": "pstvk0wRSpWU",
    "outputId": "c7107996-31bb-4bdf-f4fb-c1d917e7358a"
   },
   "outputs": [
    {
     "name": "stderr",
     "output_type": "stream",
     "text": [
      "Using TensorFlow backend.\n"
     ]
    }
   ],
   "source": [
    "from keras.models import Sequential, Model\n",
    "from keras.layers import Conv2D, Dense, Flatten, Input"
   ]
  },
  {
   "cell_type": "code",
   "execution_count": 0,
   "metadata": {
    "colab": {},
    "colab_type": "code",
    "id": "JlyZpbT8SpWY"
   },
   "outputs": [],
   "source": [
    "from keras.layers import Conv2D, Dense, Flatten, Input\n",
    "import keras\n",
    "from keras.models import Model, Sequential\n",
    "\n",
    "class Agent:\n",
    "    def __init__(self, name, state_shape, n_actions, reuse=False):\n",
    "        \"\"\"A simple actor-critic agent\"\"\"\n",
    "        \n",
    "        with tf.variable_scope(name, reuse=reuse):\n",
    "            \n",
    "             Prepare neural network architecture\n",
    "\n",
    "            inputs = Input(shape=state_shape)\n",
    "            x = Conv2D(32, (3, 3), strides=2, activation='relu')(inputs)\n",
    "            x = Conv2D(32, (3, 3), strides=2, activation='relu')(x)\n",
    "            x = Conv2D(32, (3, 3), strides=2, activation='relu')(x)\n",
    "            x = Flatten()(x)\n",
    "            x = Dense(128, activation='relu')(x)\n",
    "            \n",
    "            # two different output layers\n",
    "            logits = Dense(n_actions, activation='linear')(x)\n",
    "            state_value = Dense(1, activation='linear')(x)\n",
    "            \n",
    "            self.network = Model(inputs=inputs, outputs=[logits, state_value])\n",
    "            \n",
    "            \n",
    "            #  graph for agent step\n",
    "            self.state_t = tf.placeholder('float32', [None,] + list(state_shape))\n",
    "            self.agent_outputs = self.symbolic_step(self.state_t)\n",
    "        \n",
    "    def symbolic_step(self, state_t):\n",
    "        \"\"\"Takes agent's previous step and observation, returns next state and whatever it needs to learn (tf tensors)\"\"\"\n",
    "        \n",
    "        # apply agent's neural network to get policy logits and state values.\n",
    "\n",
    "        \n",
    "        \n",
    "        logits, state_value = self.network(state_t)\n",
    "        state_value = state_value[:, 0]\n",
    "        \n",
    "        assert tf.is_numeric_tensor(state_value) and state_value.shape.ndims == 1, \\\n",
    "            \"please return 1D tf tensor of state values [you got %s]\" % repr(state_value)\n",
    "        assert tf.is_numeric_tensor(logits) and logits.shape.ndims == 2, \\\n",
    "            \"please return 2d tf tensor of logits [you got %s]\" % repr(logits)\n",
    "        \n",
    "        return (logits, state_value)\n",
    "    \n",
    "    def step(self, state_t):\n",
    "        \"\"\"Same as symbolic step except it operates on numpy arrays\"\"\"\n",
    "        sess = tf.get_default_session()\n",
    "        return sess.run(self.agent_outputs, {self.state_t: state_t})\n",
    "    \n",
    "    def sample_actions(self, agent_outputs):\n",
    "        \"\"\"pick actions given numeric agent outputs (np arrays)\"\"\"\n",
    "        logits, state_values = agent_outputs\n",
    "        policy = np.exp(logits) / np.sum(np.exp(logits), axis=-1, keepdims=True)\n",
    "        return np.array([np.random.choice(len(p), p=p) for p in policy])"
   ]
  },
  {
   "cell_type": "code",
   "execution_count": 0,
   "metadata": {
    "colab": {
     "base_uri": "https://localhost:8080/",
     "height": 88
    },
    "colab_type": "code",
    "id": "9QWhu6DqSpWd",
    "outputId": "f49b0fc3-e0ad-4350-d8d8-0833d7bb3662"
   },
   "outputs": [
    {
     "name": "stdout",
     "output_type": "stream",
     "text": [
      "WARNING:tensorflow:From /tensorflow-1.15.2/python3.6/tensorflow_core/python/ops/resource_variable_ops.py:1630: calling BaseResourceVariable.__init__ (from tensorflow.python.ops.resource_variable_ops) with constraint is deprecated and will be removed in a future version.\n",
      "Instructions for updating:\n",
      "If using Keras pass *_constraint arguments to layers.\n"
     ]
    }
   ],
   "source": [
    "agent = Agent(\"agent\", obs_shape, n_actions)\n",
    "sess.run(tf.global_variables_initializer())"
   ]
  },
  {
   "cell_type": "code",
   "execution_count": 0,
   "metadata": {
    "colab": {
     "base_uri": "https://localhost:8080/",
     "height": 119
    },
    "colab_type": "code",
    "id": "2Ymw-XnjSpWg",
    "outputId": "6be66915-71a2-4319-e830-06bc7b7785b6"
   },
   "outputs": [
    {
     "name": "stdout",
     "output_type": "stream",
     "text": [
      "action logits:\n",
      " [[-0.0369496  -0.01874884 -0.00143453 -0.02603986  0.04033006 -0.05537146\n",
      "  -0.03294876  0.01101714  0.03151176 -0.00100702  0.00829301  0.01963131\n",
      "   0.04307696  0.00434048]]\n",
      "state values:\n",
      " [0.03718236]\n"
     ]
    }
   ],
   "source": [
    "state = [env.reset()]\n",
    "logits, value = agent.step(state)\n",
    "print(\"action logits:\\n\", logits)\n",
    "print(\"state values:\\n\", value)"
   ]
  },
  {
   "cell_type": "markdown",
   "metadata": {
    "colab_type": "text",
    "id": "wmaeUg9lSpWj"
   },
   "source": [
    "### Play\n",
    "Measures agent's average reward."
   ]
  },
  {
   "cell_type": "code",
   "execution_count": 0,
   "metadata": {
    "colab": {},
    "colab_type": "code",
    "id": "PpolWAdLSpWj"
   },
   "outputs": [],
   "source": [
    "def evaluate(agent, env, n_games=1):\n",
    "    \"\"\"Plays an a game from start till done, returns per-game rewards \"\"\"\n",
    "\n",
    "    game_rewards = []\n",
    "    for _ in range(n_games):\n",
    "        state = env.reset()\n",
    "\n",
    "        total_reward = 0\n",
    "        while True:\n",
    "            action = agent.sample_actions(agent.step([state]))[0]\n",
    "            state, reward, done, info = env.step(action)\n",
    "            total_reward += reward\n",
    "            if done:\n",
    "                break\n",
    "\n",
    "        game_rewards.append(total_reward)\n",
    "    return game_rewards"
   ]
  },
  {
   "cell_type": "code",
   "execution_count": 0,
   "metadata": {
    "colab": {
     "base_uri": "https://localhost:8080/",
     "height": 34
    },
    "colab_type": "code",
    "id": "L-Boo5U0SpWo",
    "outputId": "3e00ac84-794e-4e38-c565-77c147070654"
   },
   "outputs": [
    {
     "name": "stdout",
     "output_type": "stream",
     "text": [
      "[900.0, 200.0, 1200.0]\n"
     ]
    }
   ],
   "source": [
    "env_monitor = gym.wrappers.Monitor(env, directory=\"kungfu_videos\", force=True)\n",
    "rewards = evaluate(agent, env_monitor, n_games=3)\n",
    "env_monitor.close()\n",
    "\n",
    "print(rewards)"
   ]
  },
  {
   "cell_type": "code",
   "execution_count": 0,
   "metadata": {
    "colab": {
     "base_uri": "https://localhost:8080/",
     "height": 501,
     "resources": {
      "http://localhost:8080/kungfu_videos/openaigym.video.0.125.video000000.mp4": {
       "data": "CjwhRE9DVFlQRSBodG1sPgo8aHRtbCBsYW5nPWVuPgogIDxtZXRhIGNoYXJzZXQ9dXRmLTg+CiAgPG1ldGEgbmFtZT12aWV3cG9ydCBjb250ZW50PSJpbml0aWFsLXNjYWxlPTEsIG1pbmltdW0tc2NhbGU9MSwgd2lkdGg9ZGV2aWNlLXdpZHRoIj4KICA8dGl0bGU+RXJyb3IgNDA0IChOb3QgRm91bmQpISExPC90aXRsZT4KICA8c3R5bGU+CiAgICAqe21hcmdpbjowO3BhZGRpbmc6MH1odG1sLGNvZGV7Zm9udDoxNXB4LzIycHggYXJpYWwsc2Fucy1zZXJpZn1odG1se2JhY2tncm91bmQ6I2ZmZjtjb2xvcjojMjIyO3BhZGRpbmc6MTVweH1ib2R5e21hcmdpbjo3JSBhdXRvIDA7bWF4LXdpZHRoOjM5MHB4O21pbi1oZWlnaHQ6MTgwcHg7cGFkZGluZzozMHB4IDAgMTVweH0qID4gYm9keXtiYWNrZ3JvdW5kOnVybCgvL3d3dy5nb29nbGUuY29tL2ltYWdlcy9lcnJvcnMvcm9ib3QucG5nKSAxMDAlIDVweCBuby1yZXBlYXQ7cGFkZGluZy1yaWdodDoyMDVweH1we21hcmdpbjoxMXB4IDAgMjJweDtvdmVyZmxvdzpoaWRkZW59aW5ze2NvbG9yOiM3Nzc7dGV4dC1kZWNvcmF0aW9uOm5vbmV9YSBpbWd7Ym9yZGVyOjB9QG1lZGlhIHNjcmVlbiBhbmQgKG1heC13aWR0aDo3NzJweCl7Ym9keXtiYWNrZ3JvdW5kOm5vbmU7bWFyZ2luLXRvcDowO21heC13aWR0aDpub25lO3BhZGRpbmctcmlnaHQ6MH19I2xvZ297YmFja2dyb3VuZDp1cmwoLy93d3cuZ29vZ2xlLmNvbS9pbWFnZXMvbG9nb3MvZXJyb3JwYWdlL2Vycm9yX2xvZ28tMTUweDU0LnBuZykgbm8tcmVwZWF0O21hcmdpbi1sZWZ0Oi01cHh9QG1lZGlhIG9ubHkgc2NyZWVuIGFuZCAobWluLXJlc29sdXRpb246MTkyZHBpKXsjbG9nb3tiYWNrZ3JvdW5kOnVybCgvL3d3dy5nb29nbGUuY29tL2ltYWdlcy9sb2dvcy9lcnJvcnBhZ2UvZXJyb3JfbG9nby0xNTB4NTQtMngucG5nKSBuby1yZXBlYXQgMCUgMCUvMTAwJSAxMDAlOy1tb3otYm9yZGVyLWltYWdlOnVybCgvL3d3dy5nb29nbGUuY29tL2ltYWdlcy9sb2dvcy9lcnJvcnBhZ2UvZXJyb3JfbG9nby0xNTB4NTQtMngucG5nKSAwfX1AbWVkaWEgb25seSBzY3JlZW4gYW5kICgtd2Via2l0LW1pbi1kZXZpY2UtcGl4ZWwtcmF0aW86Mil7I2xvZ297YmFja2dyb3VuZDp1cmwoLy93d3cuZ29vZ2xlLmNvbS9pbWFnZXMvbG9nb3MvZXJyb3JwYWdlL2Vycm9yX2xvZ28tMTUweDU0LTJ4LnBuZykgbm8tcmVwZWF0Oy13ZWJraXQtYmFja2dyb3VuZC1zaXplOjEwMCUgMTAwJX19I2xvZ297ZGlzcGxheTppbmxpbmUtYmxvY2s7aGVpZ2h0OjU0cHg7d2lkdGg6MTUwcHh9CiAgPC9zdHlsZT4KICA8YSBocmVmPS8vd3d3Lmdvb2dsZS5jb20vPjxzcGFuIGlkPWxvZ28gYXJpYS1sYWJlbD1Hb29nbGU+PC9zcGFuPjwvYT4KICA8cD48Yj40MDQuPC9iPiA8aW5zPlRoYXTigJlzIGFuIGVycm9yLjwvaW5zPgogIDxwPiAgPGlucz5UaGF04oCZcyBhbGwgd2Uga25vdy48L2lucz4K",
       "headers": [
        [
         "content-length",
         "1449"
        ],
        [
         "content-type",
         "text/html; charset=utf-8"
        ]
       ],
       "ok": false,
       "status": 404,
       "status_text": ""
      }
     }
    },
    "colab_type": "code",
    "id": "sbHGs8ixSpWv",
    "outputId": "b8a2cd55-d91d-4033-a430-9856eca25685"
   },
   "outputs": [
    {
     "data": {
      "text/html": [
       "\n",
       "<video width=\"640\" height=\"480\" controls>\n",
       "  <source src=\"./kungfu_videos/openaigym.video.0.125.video000000.mp4\" type=\"video/mp4\">\n",
       "</video>\n"
      ],
      "text/plain": [
       "<IPython.core.display.HTML object>"
      ]
     },
     "execution_count": 12,
     "metadata": {
      "tags": []
     },
     "output_type": "execute_result"
    }
   ],
   "source": [
    "import os\n",
    "\n",
    "from IPython.display import HTML\n",
    "\n",
    "video_names = [s for s in os.listdir(\"./kungfu_videos/\") if s.endswith(\".mp4\")]\n",
    "\n",
    "HTML(\"\"\"\n",
    "<video width=\"640\" height=\"480\" controls>\n",
    "  <source src=\"{}\" type=\"video/mp4\">\n",
    "</video>\n",
    "\"\"\".format(\"./kungfu_videos/\" + video_names[-1]))  "
   ]
  },
  {
   "cell_type": "markdown",
   "metadata": {
    "colab_type": "text",
    "id": "aivywqS6SpWy"
   },
   "source": [
    "### Training on parallel games\n",
    "\n",
    "![img](https://s7.postimg.cc/4y36s2b2z/env_pool.png)\n",
    "\n",
    "\n",
    "To make actor-critic training more stable, I shall play several games in parallel.  "
   ]
  },
  {
   "cell_type": "code",
   "execution_count": 0,
   "metadata": {
    "colab": {},
    "colab_type": "code",
    "id": "B-wT1cwvSpWz"
   },
   "outputs": [],
   "source": [
    "class EnvBatch:\n",
    "    def __init__(self, n_envs = 10):\n",
    "        self.envs = [make_env() for _ in range(n_envs)]\n",
    "        \n",
    "    def reset(self):\n",
    "        return np.array([env.reset() for env in self.envs])\n",
    "    \n",
    "    def step(self, actions):\n",
    "\n",
    "        results = [env.step(a) for env, a in zip(self.envs, actions)]\n",
    "        new_obs, rewards, done, infos = map(np.array, zip(*results))\n",
    "        \n",
    "        # reset environments automatically\n",
    "        for i in range(len(self.envs)):\n",
    "            if done[i]:\n",
    "                new_obs[i] = self.envs[i].reset()\n",
    "        \n",
    "        return new_obs, rewards, done, infos"
   ]
  },
  {
   "cell_type": "markdown",
   "metadata": {
    "colab_type": "text",
    "id": "StZ6_eiVSpW2"
   },
   "source": [
    "__Let's try it out:__"
   ]
  },
  {
   "cell_type": "code",
   "execution_count": 0,
   "metadata": {
    "colab": {
     "base_uri": "https://localhost:8080/",
     "height": 119
    },
    "colab_type": "code",
    "id": "fgBBCPhZSpW2",
    "outputId": "ebd5c3ea-bc84-4f5d-812f-9011f808dd4e"
   },
   "outputs": [
    {
     "name": "stderr",
     "output_type": "stream",
     "text": [
      "/usr/local/lib/python3.6/dist-packages/gym/logger.py:30: UserWarning: \u001b[33mWARN: Box bound precision lowered by casting to float32\u001b[0m\n",
      "  warnings.warn(colorize('%s: %s'%('WARN', msg % args), 'yellow'))\n"
     ]
    },
    {
     "name": "stdout",
     "output_type": "stream",
     "text": [
      "State shape: (10, 42, 42, 4)\n",
      "Actions: [ 4 10  6  3  4  0 13 10  1 10]\n",
      "Rewards: [0. 0. 0. 0. 0. 0. 0. 0. 0. 0.]\n",
      "Done: [False False False False False False False False False False]\n"
     ]
    }
   ],
   "source": [
    "env_batch = EnvBatch(10)\n",
    "\n",
    "batch_states = env_batch.reset()\n",
    "\n",
    "batch_actions = agent.sample_actions(agent.step(batch_states))\n",
    "\n",
    "batch_next_states, batch_rewards, batch_done, _ = env_batch.step(batch_actions)\n",
    "\n",
    "print(\"State shape:\", batch_states.shape)\n",
    "print(\"Actions:\", batch_actions)\n",
    "print(\"Rewards:\", batch_rewards)\n",
    "print(\"Done:\", batch_done)"
   ]
  },
  {
   "cell_type": "markdown",
   "metadata": {
    "colab_type": "text",
    "id": "L4UK_3CZSpW5"
   },
   "source": [
    "# Actor-critic\n",
    "\n",
    "Define loss functions and learning algorithms as usual."
   ]
  },
  {
   "cell_type": "code",
   "execution_count": 0,
   "metadata": {
    "colab": {},
    "colab_type": "code",
    "id": "aubSyWDdSpW-"
   },
   "outputs": [],
   "source": [
    "states_ph = tf.placeholder('float32', [None,] + list(obs_shape))    \n",
    "next_states_ph = tf.placeholder('float32', [None,] + list(obs_shape))\n",
    "actions_ph = tf.placeholder('int32', (None,))\n",
    "rewards_ph = tf.placeholder('float32', (None,))\n",
    "is_done_ph = tf.placeholder('float32', (None,))"
   ]
  },
  {
   "cell_type": "code",
   "execution_count": 0,
   "metadata": {
    "colab": {},
    "colab_type": "code",
    "id": "NYAMsap1SpXJ"
   },
   "outputs": [],
   "source": [
    "\n",
    "logits, state_values = agent.symbolic_step(states_ph)\n",
    "next_logits, next_state_values = agent.symbolic_step(next_states_ph)\n",
    "\n",
    "# There is no next state if the episode is done!\n",
    "next_state_values = next_state_values * (1 - is_done_ph)\n",
    "\n",
    "probs = tf.nn.softmax(logits, axis=-1)            # [n_envs, n_actions]\n",
    "logprobs = tf.nn.log_softmax(logits, axis=-1)     # [n_envs, n_actions]\n",
    "\n",
    "logp_actions = tf.reduce_sum(logprobs * tf.one_hot(actions_ph, n_actions), axis=-1) # [n_envs,]"
   ]
  },
  {
   "cell_type": "code",
   "execution_count": 0,
   "metadata": {
    "colab": {
     "base_uri": "https://localhost:8080/",
     "height": 88
    },
    "colab_type": "code",
    "id": "7KSNE5DKSpXR",
    "outputId": "c8f25bf6-dfc0-4545-bebe-5f639da4cc13"
   },
   "outputs": [
    {
     "name": "stdout",
     "output_type": "stream",
     "text": [
      "WARNING:tensorflow:From /tensorflow-1.15.2/python3.6/tensorflow_core/python/ops/math_grad.py:1375: where (from tensorflow.python.ops.array_ops) is deprecated and will be removed in a future version.\n",
      "Instructions for updating:\n",
      "Use tf.where in 2.0, which has the same broadcast rule as np.where\n"
     ]
    }
   ],
   "source": [
    "# compute advantage using rewards_ph, state_values and next_state_values\n",
    "gamma = 0.99\n",
    "advantage = rewards_ph + gamma*next_state_values - state_values\n",
    "\n",
    "assert advantage.shape.ndims == 1, \"please compute advantage for each sample, vector of shape [n_envs,]\"\n",
    "\n",
    "entropy =  -tf.reduce_sum(probs * logprobs, 1, name=\"entropy\")\n",
    "\n",
    "assert entropy.shape.ndims == 1, \"please compute pointwise entropy vector of shape [n_envs,] \"\n",
    "\n",
    "\n",
    "\n",
    "actor_loss =  - tf.reduce_mean(logp_actions * tf.stop_gradient(advantage)) - 0.001 * tf.reduce_mean(entropy)\n",
    "\n",
    "target_state_values = rewards_ph+gamma*next_state_values\n",
    "\n",
    "critic_loss = tf.reduce_mean((state_values - tf.stop_gradient(target_state_values))**2 )\n",
    "\n",
    "train_step = tf.train.AdamOptimizer(1e-4).minimize(actor_loss + critic_loss)\n",
    "sess.run(tf.global_variables_initializer())"
   ]
  },
  {
   "cell_type": "code",
   "execution_count": 0,
   "metadata": {
    "colab": {
     "base_uri": "https://localhost:8080/",
     "height": 34
    },
    "colab_type": "code",
    "id": "u7p5dhN5SpXW",
    "outputId": "258ffbc6-1f0a-437b-acd1-8982bcc20e55"
   },
   "outputs": [
    {
     "name": "stdout",
     "output_type": "stream",
     "text": [
      "You just might be fine!\n"
     ]
    }
   ],
   "source": [
    "l_act, l_crit, adv, ent = sess.run([actor_loss, critic_loss, advantage, entropy], feed_dict = {\n",
    "        states_ph: batch_states,\n",
    "        actions_ph: batch_actions,\n",
    "        next_states_ph: batch_states,\n",
    "        rewards_ph: batch_rewards,\n",
    "        is_done_ph: batch_done,\n",
    "    })\n",
    "\n",
    "assert abs(l_act) < 100 and abs(l_crit) < 100, \"losses seem abnormally large\"\n",
    "assert 0 <= ent.mean() <= np.log(n_actions), \"impossible entropy value, double-check the formula pls\"\n",
    "if ent.mean() < np.log(n_actions) / 2:\n",
    "    print(\"Entropy is too low for untrained agent\")\n",
    "print(\"You just might be fine!\")"
   ]
  },
  {
   "cell_type": "markdown",
   "metadata": {
    "colab_type": "text",
    "id": "T8TF19uQSpXa"
   },
   "source": [
    "# Train \n",
    "\n",
    " \n"
   ]
  },
  {
   "cell_type": "code",
   "execution_count": 0,
   "metadata": {
    "colab": {
     "base_uri": "https://localhost:8080/",
     "height": 51
    },
    "colab_type": "code",
    "id": "l3zxEBPrSpXb",
    "outputId": "a3579b82-d43c-4207-8fff-841e0a52a6ec"
   },
   "outputs": [
    {
     "name": "stderr",
     "output_type": "stream",
     "text": [
      "/usr/local/lib/python3.6/dist-packages/gym/logger.py:30: UserWarning: \u001b[33mWARN: Box bound precision lowered by casting to float32\u001b[0m\n",
      "  warnings.warn(colorize('%s: %s'%('WARN', msg % args), 'yellow'))\n"
     ]
    }
   ],
   "source": [
    "import pandas as pd\n",
    "\n",
    "def ewma(x, span=100):\n",
    "    return pd.DataFrame({'x':np.asarray(x)}).x.ewm(span=span).mean().values\n",
    "\n",
    "env_batch = EnvBatch(10)\n",
    "batch_states = env_batch.reset()\n",
    "\n",
    "rewards_history = []\n",
    "entropy_history = []"
   ]
  },
  {
   "cell_type": "code",
   "execution_count": 0,
   "metadata": {
    "colab": {
     "base_uri": "https://localhost:8080/",
     "height": 298
    },
    "colab_type": "code",
    "id": "_PFX_lmvSpX0",
    "outputId": "7b3f5d4f-9b9a-42f4-af97-8e28faae8e30"
   },
   "outputs": [
    {
     "data": {
      "image/png": "[encoded data removed]",
      "text/plain": [
       "<Figure size 576x288 with 2 Axes>"
      ]
     },
     "metadata": {
      "needs_background": "light",
      "tags": []
     },
     "output_type": "display_data"
    },
    {
     "name": "stderr",
     "output_type": "stream",
     "text": [
      "100%|██████████| 100000/100000 [59:22<00:00, 28.07it/s]\n"
     ]
    }
   ],
   "source": [
    "import tqdm\n",
    "from IPython.display import clear_output\n",
    "\n",
    "with tqdm.trange(len(entropy_history), 100000) as t:\n",
    "    for i in t:\n",
    "        agent_outputs = agent.step(batch_states)\n",
    "        batch_actions = agent.sample_actions(agent_outputs)\n",
    "        batch_next_states, batch_rewards, batch_done, _ = env_batch.step(batch_actions)\n",
    "\n",
    "        # Reward scaling. \n",
    "        batch_rewards = batch_rewards * 0.01\n",
    "\n",
    "        feed_dict = {\n",
    "            states_ph: batch_states,\n",
    "            actions_ph: batch_actions,\n",
    "            next_states_ph: batch_next_states,\n",
    "            rewards_ph: batch_rewards,\n",
    "            is_done_ph: batch_done,\n",
    "        }\n",
    "\n",
    "        _, ent_t = sess.run([train_step, entropy], feed_dict)\n",
    "        entropy_history.append(np.mean(ent_t))\n",
    "\n",
    "        batch_states = batch_next_states\n",
    "\n",
    "        if i % 500 == 0:\n",
    "            if i % 2500 == 0:\n",
    "                rewards_history.append(np.mean(evaluate(agent, env, n_games=3)))\n",
    "                if rewards_history[-1] >= 5000:\n",
    "                    print(\"Your agent has earned the yellow belt\")\n",
    "\n",
    "            clear_output(True)\n",
    "\n",
    "            plt.figure(figsize=[8, 4])\n",
    "            plt.subplot(1, 2, 1)\n",
    "            plt.plot(rewards_history, label='rewards')\n",
    "            plt.plot(ewma(np.array(rewards_history), span=10), marker='.', label='rewards ewma@10')#exponentially weighted moving average (EWMA) \n",
    "            plt.title(\"Session rewards\")\n",
    "            plt.grid()\n",
    "            plt.legend()\n",
    "\n",
    "            plt.subplot(1, 2, 2)\n",
    "            plt.plot(entropy_history, label='entropy')\n",
    "            plt.plot(ewma(np.array(entropy_history), span=1000), label='entropy ewma@1000')#exponentially weighted moving average (EWMA) \n",
    "            plt.title(\"Policy entropy\")\n",
    "            plt.grid()\n",
    "            plt.legend()\n",
    "            plt.show()"
   ]
  },
  {
   "cell_type": "markdown",
   "metadata": {
    "colab_type": "text",
    "id": "I2kI1VscEAPz"
   },
   "source": [
    "Exponentially weighted moving average (EWMA) : https://en.wikipedia.org/wiki/EWMA_chart"
   ]
  },
  {
   "cell_type": "markdown",
   "metadata": {
    "colab_type": "text",
    "id": "NMmkx9sYSpX5"
   },
   "source": [
    "### Evaluation"
   ]
  },
  {
   "cell_type": "code",
   "execution_count": 0,
   "metadata": {
    "colab": {
     "base_uri": "https://localhost:8080/",
     "height": 34
    },
    "colab_type": "code",
    "id": "F2BkZtvdSpX6",
    "outputId": "c1c9a1e3-f5b6-43b8-b0e3-c24855429c23"
   },
   "outputs": [
    {
     "name": "stdout",
     "output_type": "stream",
     "text": [
      "Final mean reward: 35933.333333333336\n"
     ]
    }
   ],
   "source": [
    "env_monitor = gym.wrappers.Monitor(env, directory=\"KungFuGame\", force=True)\n",
    "final_rewards = evaluate(agent, env_monitor, n_games=3)\n",
    "env_monitor.close()\n",
    "\n",
    "print(\"Final mean reward:\", np.mean(final_rewards))"
   ]
  },
  {
   "cell_type": "code",
   "execution_count": 0,
   "metadata": {
    "colab": {
     "base_uri": "https://localhost:8080/",
     "height": 501
    },
    "colab_type": "code",
    "id": "q8ubXAvlSpX9",
    "outputId": "d7504999-d70a-4986-fa1d-cf1f5be9a9bb"
   },
   "outputs": [
    {
     "data": {
      "text/html": [
       "\n",
       "<video width=\"640\" height=\"480\" controls>\n",
       "  <source src=\"./kungfu_videos/openaigym.video.1.125.video000000.mp4\" type=\"video/mp4\">\n",
       "</video>\n"
      ],
      "text/plain": [
       "<IPython.core.display.HTML object>"
      ]
     },
     "execution_count": 23,
     "metadata": {
      "tags": []
     },
     "output_type": "execute_result"
    }
   ],
   "source": [
    "video_names = [s for s in os.listdir(\"./KungFuGame/\") if s.endswith(\".mp4\")]\n",
    "\n",
    "HTML(\"\"\"\n",
    "<video width=\"640\" height=\"480\" controls>\n",
    "  <source src=\"{}\" type=\"video/mp4\">\n",
    "</video>\n",
    "\"\"\".format(\"./KungFuGame/\" + video_names[-1])) "
   ]
  },
  {
   "cell_type": "code",
   "execution_count": 0,
   "metadata": {
    "colab": {
     "base_uri": "https://localhost:8080/",
     "height": 501
    },
    "colab_type": "code",
    "id": "VDBHVtXZSpYA",
    "outputId": "17fcf9c7-5a41-49ca-cdea-52e0de4fa9c2"
   },
   "outputs": [
    {
     "data": {
      "text/html": [
       "\n",
       "<video width=\"640\" height=\"480\" controls>\n",
       "  <source src=\"./kungfu_videos/openaigym.video.1.125.video000001.mp4\" type=\"video/mp4\">\n",
       "</video>\n"
      ],
      "text/plain": [
       "<IPython.core.display.HTML object>"
      ]
     },
     "execution_count": 24,
     "metadata": {
      "tags": []
     },
     "output_type": "execute_result"
    }
   ],
   "source": [
    "HTML(\"\"\"\n",
    "<video width=\"640\" height=\"480\" controls>\n",
    "  <source src=\"{}\" type=\"video/mp4\">\n",
    "</video>\n",
    "\"\"\".format(\"./KungFuGame/\" + video_names[-2]))"
   ]
  }
 ],
 "metadata": {
  "colab": {
   "collapsed_sections": [],
   "name": "Kung-Fu Game .ipynb",
   "provenance": []
  },
  "kernelspec": {
   "display_name": "Python 3.6",
   "language": "python",
   "name": "python3"
  },
  "language_info": {
   "codemirror_mode": {
    "name": "ipython",
    "version": 3
   },
   "file_extension": ".py",
   "mimetype": "text/x-python",
   "name": "python",
   "nbconvert_exporter": "python",
   "pygments_lexer": "ipython3",
   "version": "3.6.9"
  }
 },
 "nbformat": 4,
 "nbformat_minor": 1
}
